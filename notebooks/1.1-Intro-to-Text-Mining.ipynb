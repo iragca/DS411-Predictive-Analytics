{
  "cells": [
    {
      "cell_type": "markdown",
      "id": "6236e420-18fd-4736-b5fb-20d73243dafb",
      "metadata": {

      },
      "source": [
        "\u003Cdiv style=\"display:fill;\n",
        "           border-radius:5px;\n",
        "           background-color:#FFFCFF;\n",
        "           font-family:Harlow Solid;\n",
        "           letter-spacing:0.1px;\n",
        "           text-align: center;\n",
        "           margin: auto;\"\u003E\n",
        "\u003Ch1 style =\"font-size:55px; color:#546A76; text-shadow: 2px 2px #DBE2E6;\"\u003E \n",
        "           \u003Cu\u003E Text Mining\u003C/h1\u003E\u003C/u\u003E\n",
        "\u003Cdiv style = \"font-size:15px; font-family:Gotham Heavy; color:#546A76;letter-spacing:0.1px;\"\u003E\n",
        "    An Introduction to Text Mining and Analytics\u003Cbr\u003E\n",
        "    DS411 - Predictive Analytics\u003C/div\u003E\n",
        "\u003C/h1\u003E\n",
        "\u003C/div\u003E\n",
        "\n"
      ]
    },
    {
      "cell_type": "markdown",
      "id": "958ce2ad-96c7-4a6b-84f1-469c1c6ec9e0",
      "metadata": {

      },
      "source": [
        "\u003C!-- Topics:\n",
        "- What is Text Mining?\n",
        "- Text Mining and Text Analytics, whats the Difference?\n",
        "- What is NLP?\n",
        "- Importance of Text Mining\n",
        "- Text Mining Process --\u003E\n",
        "\n",
        "\u003Cp\u003E\n",
        "    \u003Cfont size=\"4px\"\u003E\u003Cfont color=\"grey\"\u003E\u003Cb\u003E\u003Ci\u003ETopics to be disussed:\u003C/i\u003E\u003C/b\u003E\n",
        "    \u003C/font\u003E\u003C/font\u003E\n",
        "\u003C/p\u003E\n",
        "\n",
        "\u003Cfont size=\"3px\"\u003E\u003Cfont color=\"#EC9A29\"\u003E\n",
        "\u003Cul\u003E\n",
        "    \u003Cli\u003E\u003Cfont color=\"#EC9A29\"\u003E\u003Cb\u003EWhat is Text Mining?\u003C/b\u003E\u003C/li\u003E\n",
        "    \u003Cli\u003E\u003Cfont color=\"#EC9A29\"\u003E\u003Cb\u003EText Mining and Text Analytics, whats the Difference?\u003C/b\u003E\u003C/li\u003E\n",
        "    \u003Cli\u003E\u003Cfont color=\"#EC9A29\"\u003E\u003Cb\u003EWhat is NLP?\u003C/b\u003E\u003C/li\u003E\n",
        "    \u003Cli\u003E\u003Cfont color=\"#EC9A29\"\u003E\u003Cb\u003EImportance of Text Mining\u003C/b\u003E\u003C/li\u003E\n",
        "    \u003Cli\u003E\u003Cfont color=\"#EC9A29\"\u003E\u003Cb\u003EText Mining Process\u003C/b\u003E\u003C/li\u003E\n",
        "    \n",
        "\u003C/ul\u003E\n",
        "\u003C/font\u003E\u003C/font\u003E"
      ]
    },
    {
      "cell_type": "markdown",
      "id": "371d3941-0ca1-4b27-9e06-a870b1143ac5",
      "metadata": {

      },
      "source": [
        "\u003Cp\u003E\n",
        "    \u003Cfont size=\"5px\"\u003E\u003Cfont color=\"grey\"\u003E\u003Cb\u003E\u003Ci\u003EWhat is Text Mining?\u003C/i\u003E\u003C/b\u003E\n",
        "\u003C/p\u003E\n",
        "\n",
        "\u003Cp\u003E\n",
        "    \u003Cu\u003EText Mining\u003C/u\u003E is a component of \u003Ci\u003EData Mining\u003C/i\u003E and is the process of exploring and analyzing large amounts of unstructured text data. This aided by identifying concepts, patterns, topics, keywords and other attributes in the data. Text mining has become increasingly accessible for data scientists and other users thanks to the advancement of big data platforms and deep learning algorithms that can process vast amounts of unstructured data.\n",
        "\n",
        "By mining and analyzing text, organizations can uncover valuable business insights from sources like corporate documents, customer emails, call center logs, survey responses, social media posts, medical records, and other text-based data. Additionally, text mining features are being integrated into AI chatbots and virtual agents, enabling companies to offer automated customer responses in their marketing, sales, and customer service efforts.\n",
        "\u003C/p\u003E"
      ]
    },
    {
      "cell_type": "markdown",
      "id": "77bf80a0-bbff-4af7-94af-6f51dedc4ded",
      "metadata": {

      },
      "source": [
        "\u003Cp\u003E\n",
        "    \u003Cfont size=\"5px\"\u003E\u003Cfont color=\"grey\"\u003E\u003Cb\u003E\u003Ci\u003E\u003Cu\u003EText Mining\u003C/u\u003E and \u003Cu\u003EText Analytics\u003C/u\u003E, whats the difference?\u003C/i\u003E\u003C/b\u003E\n",
        "\u003C/p\u003E"
      ]
    },
    {
      "cell_type": "markdown",
      "id": "13139a02-889d-427a-bbb4-25b6c5d54e4c",
      "metadata": {

      },
      "source": [
        "\u003Cu\u003E`Text mining`\u003C/u\u003E and \u003Cu\u003E`text analytics`\u003C/u\u003E are closely related but serve different purposes in extracting insights from textual data. \u003Cu\u003E`Text mining`\u003C/u\u003E involves using natural language processing and machine learning techniques to identify patterns, trends, and knowledge within large sets of unstructured text.\n",
        "\n",
        "On the other hand, \u003Cu\u003E`text analytics`\u003C/u\u003E is centered on extracting meaningful information, sentiments, and context from text, often through statistical and linguistic methods. While text mining is focused on uncovering hidden patterns, text analytics is aimed at generating actionable insights for decision-making. Both are essential in converting unstructured text into valuable knowledge, with text mining exploring underlying patterns and text analytics offering interpretative context.\n",
        "\n",
        "\u003Cbr\u003E\n",
        "\n",
        "\u003E &rarr; **Note:**\n",
        "\u003E\n",
        "\u003E\u003Cul\u003E\n",
        "\u003E\u003Cli\u003E\u003Cu\u003EStatistical Method\u003C/u\u003E - are about quantifying and analyzing text based on patterns, frequencies, and mathematical relationships. They are data-driven and often used in large-scale text analysis.\u003C/li\u003E\n",
        "\u003E\u003Cli\u003E\u003Cu\u003ELinguistic Method\u003C/u\u003E - involve understanding the language itself—its structure, grammar, and meaning. They are more focused on the interpretation and contextual understanding of text.\u003C/li\u003E\n",
        "\u003C/ul\u003E"
      ]
    },
    {
      "cell_type": "markdown",
      "id": "152c6c4e-c488-44b2-8fad-7d37bbe9a06b",
      "metadata": {

      },
      "source": [
        "\u003Cdiv class=\"alert alert-info\"\u003E\n",
        "  \u003Cb\u003EInfo!\u003C/b\u003E\u003Cbr\u003E \n",
        "    So, while \u003Cu\u003E\u003Cb\u003EText Mining\u003C/u\u003E\u003C/b\u003E is about finding patterns, \u003Cu\u003E\u003Cb\u003EText Analytics\u003C/u\u003E\u003C/b\u003E is about interpreting and understanding the content.\u003Cbr\u003E Both help turn raw text into valuable insights, but they do it in different ways.\n",
        "\u003C/div\u003E"
      ]
    },
    {
      "cell_type": "markdown",
      "id": "2ccb3c66-8fa6-4f77-9ea5-6f7d636ad0d4",
      "metadata": {

      },
      "source": [
        "\u003Cp\u003E\n",
        "    \u003Cfont size=\"5px\"\u003E\u003Cfont color=\"grey\"\u003E\u003Cb\u003E\u003Ci\u003EImportance of Text Mining\u003C/i\u003E\u003C/b\u003E\u003Cbr\u003E\n",
        "\u003C/p\u003E"
      ]
    },
    {
      "cell_type": "markdown",
      "id": "bf4303c9-c188-40d6-bf19-739874727885",
      "metadata": {

      },
      "source": [
        "Text Mining has been widely used in many aspects and in various fields. Text mining is crucial for turning unstructured text data into actionable knowledge, helping organizations gain a competitive edge, improve their services, and make more informed decisions.\n",
        "\n",
        "- ***Uncovering Hidden Insights***: Text mining helps identify patterns, trends, and relationships within textual data that aren’t immediately obvious. This can lead to new discoveries and a deeper understanding of topics.\n",
        "\n",
        "- ***Enhancing Decision-Making***: By analyzing customer feedback, social media posts, or other text sources, organizations can gain insights that inform better decisions in areas like marketing, product development, and customer service.\n",
        "\n",
        "- ***Automating and Scaling Analysis***: Manual analysis of large volumes of text is time-consuming and impractical. Text mining automates the process, making it possible to analyze vast amounts of data quickly and efficiently.\n",
        "\n",
        "- ***Improving Customer Experience***: Text mining can analyze customer interactions (like emails, chats, or reviews) to identify common issues, sentiments, or needs. This allows companies to respond more effectively and improve customer satisfaction.\n",
        "\n",
        "- ***Detecting Risks and Opportunities***: Text mining can be used to monitor and analyze external sources, such as news articles or social media, to detect potential risks (like negative sentiment) or opportunities (like emerging trends) early.\n",
        "\n",
        "- ***Supporting Research and Innovation***: In fields like healthcare, text mining can be used to sift through vast amounts of medical literature or patient records to identify new treatments, trends, or correlations, supporting research and innovation."
      ]
    },
    {
      "cell_type": "markdown",
      "id": "bf517e55-602d-4cce-8a20-29982b706d68",
      "metadata": {

      },
      "source": [
        "\u003Cp\u003E\n",
        "    \u003Cfont size=\"5px\"\u003E\u003Cfont color=\"grey\"\u003E\u003Cb\u003E\u003Ci\u003EWhat is NLP?\u003C/i\u003E\u003C/b\u003E\n",
        "\u003C/p\u003E"
      ]
    },
    {
      "cell_type": "markdown",
      "id": "942c0700-d3ba-42e6-a012-926c7244a9dc",
      "metadata": {

      },
      "source": [
        "\u003E &rarr; **Natural Language Processing (NLP) is a part of computer science and artificial intelligence which deals with human languages**"
      ]
    },
    {
      "cell_type": "markdown",
      "id": "663c1cd4-bed3-4c38-beaa-42d710080424",
      "metadata": {

      },
      "source": [
        "Basically *NLP* is a component of text mining that performs a special kind of linguistic analysis that essentially helps a machine \"read\" text. \u003Cbr\u003E\n",
        "It employs various techniques to interpret the complexities of human language, such as automatic summarization, part-of-speech tagging, \u003Cbr\u003Echunking, disambiguation, and natural language understanding and recognition."
      ]
    },
    {
      "cell_type": "markdown",
      "id": "37943a42-d0e2-40cb-a40f-73c5d3d8b245",
      "metadata": {

      },
      "source": [
        "\u003Cdiv class=\"alert alert-info\"\u003E\n",
        "  \u003Cb\u003EExample:\u003C/b\u003E\u003Cbr\u003E \n",
        "    Google Translate uses some of the most advanced NLP tools available. Automated Chatbots, text predictors, and speech to text applications also use forms of NLP.\n",
        "\u003C/div\u003E"
      ]
    },
    {
      "cell_type": "markdown",
      "id": "0e167e6b-76c7-4376-a5b3-18c9a8599a07",
      "metadata": {

      },
      "source": [
        "NLP includes:\n",
        "1. Tokenization\n",
        "   - Word Tokenization\n",
        "   - Sentence Tokenization\n",
        "2. Term Frequency\n",
        "3. Stemming\n",
        "4. Lemmatization\n",
        "5. Stop Words\n",
        "6. Part of Speech Tagging\n",
        "7. Named Entity Recognition"
      ]
    },
    {
      "cell_type": "markdown",
      "id": "e124fd5d-5bae-4ae0-aac1-225a816d094d",
      "metadata": {

      },
      "source": [
        "\u003Cp\u003E\n",
        "    \u003Cfont size=\"5px\"\u003E\u003Cfont color=\"grey\"\u003E\u003Cb\u003E\u003Ci\u003ENLP can be divided into to two subfields\u003C/i\u003E\u003C/b\u003E\n",
        "\u003C/p\u003E"
      ]
    },
    {
      "cell_type": "markdown",
      "id": "a88ac0a2-19e1-4cb9-a149-91574017e3e4",
      "metadata": {

      },
      "source": [
        "At the highest level, [NLP is often divided into two primary areas](https://www.deeplearning.ai/resources/natural-language-processing/):\n",
        "\u003Cbr\u003E\n",
        "- ****Natural Language Understanding****\n",
        "  * focuses on Semantic Analysis or determining the intended meaning of the text;\n",
        "      - or focuses on the machines ability to comprehend human language\n",
        "    - Key tasks within NLU include:\n",
        "      + \u003Cu\u003E\u003Ci\u003ESentiment Analysis\u003C/i\u003E\u003C/u\u003E - Determining the emotional tone (positive, negative, neutral) of a piece of text\n",
        "      + \u003Cu\u003E\u003Ci\u003ENamed Entity Recognition (NER)\u003C/i\u003E\u003C/u\u003E -  Identifying and categorizing key entities in a text, such as names of people, organizations, locations, and dates.\n",
        "      + \u003Cu\u003E\u003Ci\u003EWord Sense Disambiguation\u003C/i\u003E\u003C/u\u003E - Ascertaining the correct meaning of a word that has multiple possible interpretations based on its context.\n",
        "      + \u003Cu\u003E\u003Ci\u003ETopic Modeling\u003C/i\u003E\u003C/u\u003E - Discovering the abstract topics that occur in a collection of documents.\n",
        "- ****Natural Language Generation****\n",
        "  * concerned with producing human-like text from structured data\n",
        "  * NLG systems can generate everything from short, simple phrases to complex and coherent narratives\n",
        "      - Common Applications include:\n",
        "        + \u003Cu\u003E\u003Ci\u003EText Summarization\u003C/u\u003E\u003C/i\u003E - Creating concise and fluent summaries of longer documents. This can be further divided into extractive summarization (selecting key sentences) and abstractive summarization (generating new sentences).\n",
        "        + \u003Cu\u003E\u003Ci\u003EMachine Translation\u003C/u\u003E\u003C/i\u003E - Automatically translating text or speech from one language to another.\n",
        "        + \u003Cu\u003E\u003Ci\u003E Chatbot Response\u003C/u\u003E\u003C/i\u003E - Generating conversational and contextually appropriate replies in a dialogue."
      ]
    },
    {
      "cell_type": "markdown",
      "id": "05d33abb-fa14-4494-a257-0e78ebbb81b7",
      "metadata": {

      },
      "source": [
        "**Emerging & Interdisciplinary Subfields**\u003Cbr\u003E\n",
        "- Multimodal NLP:\n",
        "  - Goal: Process text alongside other modalities (images, audio, video).\n",
        "  - Examples: Image captioning, visual question answering (VQA).\n",
        "- Clinical NLP:\n",
        "  - Focus: Extract insights from medical texts (e.g., EHRs, clinical notes).\n",
        "  - Tasks: Diagnoses prediction, adverse event detection.\n",
        "- Low-Resource NLP:\n",
        "  - Challenge: Adapt models to languages/dialects with limited training data.\n",
        "  - Techniques: Zero-shot learning, few-shot learning.\n",
        "- Large Language Models (LLMs) & Prompt Engineering:\n",
        "  - Focus: Optimize interactions with generative models (e.g., GPT-4, Llama).\n",
        "  - Tasks: Instruction tuning, few-shot prompting, alignment."
      ]
    },
    {
      "cell_type": "markdown",
      "id": "c10b8f38-2b83-402d-ac27-d3818ef0a9f8",
      "metadata": {

      },
      "source": [
        "\u003Cp\u003E\n",
        "    \u003Cfont size=\"5px\"\u003E\u003Cfont color=\"grey\"\u003E\u003Cb\u003E\u003Ci\u003E NLP Process / Pipeline\u003C/i\u003E\u003C/b\u003E\n",
        "\u003C/p\u003E"
      ]
    },
    {
      "cell_type": "markdown",
      "id": "3a0f05ad-134b-45bd-b926-507954310eaf",
      "metadata": {

      },
      "source": [
        "```mermaid\n",
        "flowchart LR\n",
        "A[/Data Collection/]~~~~~B[/Data Preprocessing/]\n",
        "B~~~~C[/Feature Engineering/]\n",
        "C~~~~D[/Text Mining/]\n",
        "```\n",
        "\n",
        "```mermaid\n",
        "flowchart LR\n",
        "\n",
        "A[Web/SQL/CSV/EXCEL/API\n",
        "    /among others] ---o B[Text Preprocessing\n",
        "                        Tokenization\n",
        "                        Normalization\n",
        "                        NER\n",
        "                        POS]\n",
        "B ---o C[Content Analysis\n",
        "        Feature Extraction\n",
        "        Algorithmic Techniques]\n",
        "C ---o D[Topic Extraction\n",
        "        Predictive Analytics]\n",
        "D -..-\u003E E([Feedback]) -..-\u003E B\n",
        "\n",
        "```"
      ]
    },
    {
      "cell_type": "markdown",
      "id": "c57f0e71-f82b-4a65-b6c8-8d53d0b2ef73",
      "metadata": {

      },
      "source": [
        "\u003Cp\u003E\n",
        "    \u003Cfont size=\"5px\"\u003E\u003Cfont color=\"grey\"\u003E\u003Cb\u003E\u003Ci\u003EReal-World NLP Applications\u003C/i\u003E\u003C/b\u003E\n",
        "\u003C/p\u003E"
      ]
    },
    {
      "cell_type": "markdown",
      "id": "b892329c-5480-47f2-89db-c38331ae581d",
      "metadata": {

      },
      "source": [
        "1. **Sentiment Analysis** : Classifying product reviews as positive or negative.\n",
        "2. **Named Entity Recognition (NER)** : Extracting names, dates, locations, from text.\n",
        "3. **Optical Character Recognition (OCR)** : Extracting text from images; Image to Text conversion\n",
        "4. **Machine Translation** : Google Translation, DeepL (Langauge Translation)\n",
        "5. **Text Summarization** : Generating concise summaries of long documents.\n",
        "6. **Chatbots & Virtual Assistants** : Customer support automation"
      ]
    },
    {
      "cell_type": "markdown",
      "id": "3f4be4c4-9db9-4498-ae47-7d4ecadbb907",
      "metadata": {

      },
      "source": [
        "***Sources***:\u003Cbr\u003E\n",
        "kdnuggets.com / [Text Mining in Python](https://www.kdnuggets.com/2020/05/text-mining-python-steps-examples.html)\u003Cbr\u003E\n",
        "techtarget.com / [Text Mining(Text Analytics)](https://www.techtarget.com/searchbusinessanalytics/definition/text-mining)\u003Cbr\u003E\n",
        "geeksforgeeks.org / [Text Mining in Data Mining](https://www.geeksforgeeks.org/text-mining-in-data-mining/)\u003Cbr\u003E\n",
        "ibm.com / [Natural Language Processing](https://www.ibm.com/topics/natural-language-processing#:~:text=What%20is%20NLP%3F,and%20communicate%20with%20human%20language.)\u003Cbr\u003E\n",
        "deeplearnin.ai / [Natural Language Processing](https://www.deeplearning.ai/resources/natural-language-processing/)"
      ]
    },
    {
      "cell_type": "markdown",
      "id": "874aecc7-a7e1-46ca-9bc9-8747753fac4d",
      "metadata": {

      },
      "source": []
    }
  ],
  "metadata": {
    "kernelspec": {
      "display_name": "Python 3 (ipykernel)",
      "language": "python",
      "name": "python3"
    },
    "language_info": {
      "codemirror_mode": {
        "name": "ipython",
        "version": 3
      },
      "file_extension": ".py",
      "mimetype": "text/x-python",
      "name": "python",
      "nbconvert_exporter": "python",
      "pygments_lexer": "ipython3",
      "version": "3.12.7"
    },
    "widgets": {
      "application/vnd.jupyter.widget-state+json": {
        "state": {

        },
        "version_major": 2,
        "version_minor": 0
      }
    }
  },
  "nbformat": 4,
  "nbformat_minor": 5
}