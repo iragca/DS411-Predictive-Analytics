{
 "cells": [
  {
   "cell_type": "markdown",
   "id": "1f4fa70f-0065-4b30-968c-68bd0e100bcb",
   "metadata": {},
   "source": [
    "# Part of Speech Tagging"
   ]
  },
  {
   "cell_type": "markdown",
   "id": "b139d21f-65d8-4bd5-a63b-6a469f88f785",
   "metadata": {},
   "source": [
    "**POS Tagging** is the process of labeling each word in a sentence with its grammatical role. It is important to get an idea that which parts of speech does tokens belong to i.e whether it is a noun, verb, adverb, conjunction, pronoun, adjective, preposition, interjection, and so on so forth. Whether it is plural or singular and many more conditions.\n",
    "\n",
    "**POS Tagging** (Part-of-Speech Tagging) is the fundamental <u>*natural language processing technique*</u> that assigns grammatical labels to words in text based on their functions and contexts. This process systematically categorizes each token in a sentence according to its linguistic role. \n",
    "\n",
    "\n",
    "In Computational Linguistics, POS Tagging serves as critical preprocessing step for more complex language analysis task. Modern POS Taggers typically use statistical methods, rule-based systems, or neural networks to determine the appropriate tags with high accuracy."
   ]
  },
  {
   "cell_type": "markdown",
   "id": "df62a720-1fc1-4142-bc14-8fb06ae6b755",
   "metadata": {},
   "source": [
    "*A popular* ***Penn treebank*** *lists the possible tags are generally used to tag these tokens. [link](https://gist.githubusercontent.com/yashj302/76b82a90739ebec90120cc1da31c967e/raw/4b608b5d0f41e212267bfa73f97fb7b4275e7e7b/POS%20tag.csv)"
   ]
  },
  {
   "cell_type": "markdown",
   "id": "3917d37f-0ce0-4beb-b51f-1dd9719577b7",
   "metadata": {},
   "source": [
    "<u>Common POS categories:</u>\n",
    "<ul>\n",
    "    <li><b>Nouns</b></li>\n",
    "    <li><b>Verbs</b></li>\n",
    "    <li><b>Adjectives</b></li>\n",
    "    <li><b>Adverbs</b></li>\n",
    "    <li><b>Pronouns</b></li>\n",
    "    <li><b>Prepositions</b></li>\n",
    "    <li><b>Conjunctions</b></li>\n",
    "    <li><b>Interjections</b></li>\n",
    "</ul>"
   ]
  },
  {
   "cell_type": "markdown",
   "id": "9c32c0ad-7435-4012-a965-4c5995054377",
   "metadata": {},
   "source": [
    "<u>List of common tags:</u> <br>\n",
    "* CC - coordinating conjunction \n",
    "* CD - cardinal digit \n",
    "* DT - determiner \n",
    "* EX - existential there (like: \"there is\" ... think of it like \"there exists\") \n",
    "* FW - foreign word \n",
    "* IN - preposition/subordinating conjunction \n",
    "* JJ - adjective - 'big' \n",
    "* JJR - adjective, comparative - 'bigger' \n",
    "* JJS - adjective, superlative - 'biggest' \n",
    "* LS - list marker 1) \n",
    "* MD - modal - could, will \n",
    "* NN - noun, singular '- desk' \n",
    "* NNS - noun plural - 'desks' \n",
    "* NNP - proper noun, singular - 'Harrison' \n",
    "* NNPS - proper noun, plural - 'Americans' \n",
    "* PDT - predeterminer - 'all the kids' \n",
    "* POS - possessive ending parent's \n",
    "* PRP - personal pronoun -  I, he, she \n",
    "* `PRP$` - possessive pronoun - my, his, hers \n",
    "* RB - adverb - very, silently, \n",
    "* RBR - adverb, comparative - better \n",
    "* RBS - adverb, superlative - best \n",
    "* RP - particle - give up \n",
    "* TO - to go 'to' the store. \n",
    "* UH - interjection - errrrrrrrm \n",
    "* VB - verb, base form - take \n",
    "* VBD - verb, past tense - took \n",
    "* VBG - verb, gerund/present participle - taking \n",
    "* VBN - verb, past participle - taken \n",
    "* VBP - verb, sing. present, non-3d - take \n",
    "* VBZ - verb, 3rd person sing. present - takes \n",
    "* WDT - wh-determiner - which \n",
    "* WP - wh-pronoun - who, what \n",
    "* `WP$` - possessive wh-pronoun, eg- whose \n",
    "* WRB - wh-adverb, eg- where, when"
   ]
  },
  {
   "cell_type": "markdown",
   "id": "9c4ff90d-2edd-4c7b-9fdd-5086360716f0",
   "metadata": {},
   "source": [
    "In `predictive analytics`, accurate POS tagging enhances the performance of downstream tasks such as sentiment analysis, topic modeling, and text classification by providing structured linguistic features."
   ]
  },
  {
   "cell_type": "markdown",
   "id": "8b291aef-0e03-4b48-8dfa-ab227a8634c6",
   "metadata": {},
   "source": [
    "<img src = '1_Yj-1jtWm9z5hRJq-OtntMA.webp'><br>\n",
    "[https://medium.com/@martinthetechie/nlp-guide-part-of-speech-8e890c7a0b51](https://medium.com/@martinthetechie/nlp-guide-part-of-speech-8e890c7a0b51)"
   ]
  },
  {
   "cell_type": "markdown",
   "id": "5fd7270d-8fb8-44ed-9238-679382bc5298",
   "metadata": {},
   "source": [
    "## Why Part of Speech Tagging matters\n",
    "\n",
    "POS Tagging matters because it improves downstream NLP tasks like parsing and named entity recognition (NER). It also enables information extraction in identifying specific tags in a document.\n",
    "\n",
    "It also helps disambiguate word meaning based on usage,<br>\n",
    "Example of disambiguation:\n",
    "\n",
    "- book (noun): “I read a book.”\n",
    "- book (verb): “I will book a ticket.”"
   ]
  },
  {
   "cell_type": "markdown",
   "id": "cf34185b-7b72-4b26-99dc-4a172a57ade7",
   "metadata": {},
   "source": [
    "## There are multiple approaches to POS Tagging:\n",
    "\n",
    "<font size = '3px'><b> Rule Based </b></font> - Uses Handcrafted grammar Rules <br>\n",
    "<font size = '3px'><b> Statistical </b></font> - Uses Probabilistic models to assign POS tags based on patterns on annotated text corpora.<br>\n",
    "<font size = '3px'><b> Machine Learning  </b></font> - Supervised models trained on annoted datasets <br>\n",
    "<font size = '3px'><b> Deep Learning </b></font> - Models such as BiLSTM and Transformer-based architecture"
   ]
  },
  {
   "cell_type": "markdown",
   "id": "ada6c48c-5e42-46e1-aa91-dad13e0dca06",
   "metadata": {},
   "source": [
    "## Rule Based"
   ]
  },
  {
   "cell_type": "code",
   "execution_count": 1,
   "id": "9842d6aa-e88e-4755-883c-33771a1b31ae",
   "metadata": {
    "execution": {
     "iopub.execute_input": "2025-09-25T02:43:55.004974Z",
     "iopub.status.busy": "2025-09-25T02:43:55.003973Z",
     "iopub.status.idle": "2025-09-25T02:43:55.006819Z",
     "shell.execute_reply": "2025-09-25T02:43:55.006819Z",
     "shell.execute_reply.started": "2025-09-25T02:43:55.004974Z"
    }
   },
   "outputs": [],
   "source": [
    "import nltk\n",
    "import re"
   ]
  },
  {
   "cell_type": "code",
   "execution_count": 3,
   "id": "6b597a5e-f901-466d-8c62-8f363a1640b9",
   "metadata": {
    "execution": {
     "iopub.execute_input": "2025-09-25T02:43:57.841322Z",
     "iopub.status.busy": "2025-09-25T02:43:57.840317Z",
     "iopub.status.idle": "2025-09-25T02:43:57.845148Z",
     "shell.execute_reply": "2025-09-25T02:43:57.845148Z",
     "shell.execute_reply.started": "2025-09-25T02:43:57.841322Z"
    }
   },
   "outputs": [
    {
     "name": "stdout",
     "output_type": "stream",
     "text": [
      "[('the', 'DET'), ('quick', 'ADJ'), ('brown', 'NN'), ('fox', 'NOUN'), ('jumps', 'VERB'), ('over', 'PREP'), ('the', 'DET'), ('lazy', 'ADJ'), ('dog', 'NOUN')]\n"
     ]
    }
   ],
   "source": [
    "pos_dict = {\n",
    "    \"the\": \"DET\",\n",
    "    \"a\": \"DET\",\n",
    "    \"an\": \"DET\",\n",
    "    \"over\": \"PREP\",\n",
    "    \"in\": \"PREP\",\n",
    "    \"on\": \"PREP\",\n",
    "    \"is\": \"VERB\",\n",
    "    \"are\": \"VERB\",\n",
    "    \"jumps\": \"VERB\",\n",
    "    \"runs\": \"VERB\",\n",
    "    \"dog\": \"NOUN\",\n",
    "    \"cat\": \"NOUN\",\n",
    "    \"fox\": \"NOUN\"\n",
    "}\n",
    "\n",
    "\n",
    "def rule_based(corpus):\n",
    "    tokens = nltk.word_tokenize(corpus)\n",
    "    tags = []\n",
    "\n",
    "    for i, word in enumerate(tokens):\n",
    "        word = word.lower()\n",
    "        tag = None\n",
    "\n",
    "        if word in pos_dict:\n",
    "            tag = pos_dict[word]\n",
    "\n",
    "        elif re.search(\"ly$\", word):\n",
    "            tag = \"ADV\"\n",
    "        elif re.search(\"ing$\", word):\n",
    "            tag = \"VBG\"\n",
    "        elif re.search(\"ed$\", word):\n",
    "            tag = \"VBN\"\n",
    "        elif re.search(\"ous$|ful$|able$|al$|ive$\", word):\n",
    "            tag = \"ADJ\"\n",
    "\n",
    "        elif i > 0 and tokens[i-1].lower() in ['the', 'a', 'an']:\n",
    "            tag = \"ADJ\"\n",
    "\n",
    "        else:\n",
    "            tag = \"NN\"\n",
    "        tags.append((word, tag))\n",
    "    return tags\n",
    "\n",
    "sentence = \"The quick brown fox jumps over the lazy dog\"\n",
    "print(rule_based(sentence))"
   ]
  },
  {
   "cell_type": "markdown",
   "id": "c0d0d63b-2f48-45d2-a09f-3536a43ad105",
   "metadata": {},
   "source": [
    "## Statistical Approach"
   ]
  },
  {
   "cell_type": "code",
   "execution_count": 4,
   "id": "209a0c6c-89d6-45c7-803f-3f093318f44e",
   "metadata": {
    "execution": {
     "iopub.execute_input": "2025-09-25T02:43:58.806826Z",
     "iopub.status.busy": "2025-09-25T02:43:58.806826Z",
     "iopub.status.idle": "2025-09-25T02:43:58.812059Z",
     "shell.execute_reply": "2025-09-25T02:43:58.812059Z",
     "shell.execute_reply.started": "2025-09-25T02:43:58.806826Z"
    }
   },
   "outputs": [],
   "source": [
    "from nltk.tokenize import word_tokenize\n",
    "from nltk.tag import pos_tag"
   ]
  },
  {
   "cell_type": "code",
   "execution_count": 5,
   "id": "611aa86a-0144-4290-a82d-fcbc76d40493",
   "metadata": {
    "execution": {
     "iopub.execute_input": "2025-09-25T02:24:50.564991Z",
     "iopub.status.busy": "2025-09-25T02:24:50.564991Z",
     "iopub.status.idle": "2025-09-25T02:24:50.667759Z",
     "shell.execute_reply": "2025-09-25T02:24:50.667352Z",
     "shell.execute_reply.started": "2025-09-25T02:24:50.564991Z"
    }
   },
   "outputs": [
    {
     "name": "stderr",
     "output_type": "stream",
     "text": [
      "[nltk_data] Downloading package averaged_perceptron_tagger to\n",
      "[nltk_data]     /home/iragca/nltk_data...\n",
      "[nltk_data]   Unzipping taggers/averaged_perceptron_tagger.zip.\n",
      "[nltk_data] Downloading package averaged_perceptron_tagger_eng to\n",
      "[nltk_data]     /home/iragca/nltk_data...\n",
      "[nltk_data]   Unzipping taggers/averaged_perceptron_tagger_eng.zip.\n"
     ]
    },
    {
     "data": {
      "text/plain": [
       "True"
      ]
     },
     "execution_count": 5,
     "metadata": {},
     "output_type": "execute_result"
    }
   ],
   "source": [
    "# nltk.download('averaged_perceptron_tagger')\n",
    "# nltk.download('averaged_perceptron_tagger_eng')"
   ]
  },
  {
   "cell_type": "code",
   "execution_count": 6,
   "id": "f28bb6a1-1b99-44e7-a2e3-945716da8255",
   "metadata": {
    "execution": {
     "iopub.execute_input": "2025-09-25T02:44:03.196101Z",
     "iopub.status.busy": "2025-09-25T02:44:03.195100Z",
     "iopub.status.idle": "2025-09-25T02:44:03.201097Z",
     "shell.execute_reply": "2025-09-25T02:44:03.201097Z",
     "shell.execute_reply.started": "2025-09-25T02:44:03.196101Z"
    }
   },
   "outputs": [
    {
     "data": {
      "text/plain": [
       "[('i', 'NN'),\n",
       " ('am', 'VBP'),\n",
       " ('not', 'RB'),\n",
       " ('dreaming', 'VBG'),\n",
       " ('anymore,', 'NN'),\n",
       " ('i', 'NN'),\n",
       " (\"can't\", 'VBP'),\n",
       " ('wake', 'VB'),\n",
       " ('up,', 'JJ'),\n",
       " ('turn', 'NN'),\n",
       " ('on', 'IN'),\n",
       " ('the', 'DT'),\n",
       " ('light', 'JJ'),\n",
       " (\"i'm\", 'NN'),\n",
       " ('haunted', 'VBN'),\n",
       " ('by', 'IN'),\n",
       " ('my', 'PRP$'),\n",
       " ('feelings', 'NNS')]"
      ]
     },
     "execution_count": 6,
     "metadata": {},
     "output_type": "execute_result"
    }
   ],
   "source": [
    "corpus = \"I am not dreaming anymore, I can't wake up, Turn on the light I'm haunted by my feelings\"\n",
    "\n",
    "tokens = corpus.lower().split()\n",
    "statistical_tags = pos_tag(tokens)\n",
    "\n",
    "statistical_tags"
   ]
  },
  {
   "cell_type": "markdown",
   "id": "1b7cb4ff-163c-43ab-b8e0-2c20cc5c485e",
   "metadata": {},
   "source": [
    "## POS Tagging is a foundational ***preprocessing*** step in NLP pipelines"
   ]
  },
  {
   "cell_type": "markdown",
   "id": "bb83394c-1289-4efd-906b-cb8918b7b01b",
   "metadata": {},
   "source": [
    "By grouping words into their respective grammatical roles, POS Tagging provides greater insights into sentence structure and meaning which are important for higher-level NLP applications."
   ]
  },
  {
   "cell_type": "code",
   "execution_count": 8,
   "id": "a96d62a1-6cb3-4e93-bc17-39953c3df52b",
   "metadata": {
    "execution": {
     "iopub.execute_input": "2025-09-25T06:27:50.556483Z",
     "iopub.status.busy": "2025-09-25T06:27:50.556483Z",
     "iopub.status.idle": "2025-09-25T06:27:50.560580Z",
     "shell.execute_reply": "2025-09-25T06:27:50.560580Z",
     "shell.execute_reply.started": "2025-09-25T06:27:50.556483Z"
    }
   },
   "outputs": [
    {
     "data": {
      "text/plain": [
       "\"The statement 'mitochondria is the powerhouse of the cell' is a common analogy, and it is correct in that mitochondria are responsible for generating the majority of the cell's usable energy in the form of adenosine triphosphate (ATP) through a process called cellular respiration. This vital function makes them essential for the cell's survival and operation.\""
      ]
     },
     "execution_count": 8,
     "metadata": {},
     "output_type": "execute_result"
    }
   ],
   "source": [
    "## Lets say we have a sentence:\n",
    "corpus= ''.join([\"The statement 'mitochondria is the powerhouse of the cell' is a common analogy, \", \n",
    "        \"and it is correct in that mitochondria are responsible for generating the majority of the cell's usable \",\n",
    "        \"energy in the form of adenosine triphosphate (ATP) through a process called cellular respiration. \",\n",
    "        \"This vital function makes them essential for the cell's survival and operation.\"])\n",
    "corpus"
   ]
  },
  {
   "cell_type": "code",
   "execution_count": 9,
   "id": "6de24341-cb63-4c1b-9c3a-0ea82dc51642",
   "metadata": {
    "execution": {
     "iopub.execute_input": "2025-09-25T06:52:44.240336Z",
     "iopub.status.busy": "2025-09-25T06:52:44.240336Z",
     "iopub.status.idle": "2025-09-25T06:52:44.245833Z",
     "shell.execute_reply": "2025-09-25T06:52:44.245833Z",
     "shell.execute_reply.started": "2025-09-25T06:52:44.240336Z"
    },
    "scrolled": true
   },
   "outputs": [
    {
     "data": {
      "text/plain": [
       "['statement',\n",
       " 'mitochondria',\n",
       " 'powerhouse',\n",
       " 'cell',\n",
       " 'common',\n",
       " 'analogy',\n",
       " 'correct',\n",
       " 'mitochondria',\n",
       " 'responsible',\n",
       " 'generating',\n",
       " 'majority',\n",
       " 'cells',\n",
       " 'usable',\n",
       " 'energy',\n",
       " 'form',\n",
       " 'adenosine',\n",
       " 'triphosphate',\n",
       " 'atp',\n",
       " 'process',\n",
       " 'called',\n",
       " 'cellular',\n",
       " 'respiration',\n",
       " 'vital',\n",
       " 'function',\n",
       " 'makes',\n",
       " 'essential',\n",
       " 'cells',\n",
       " 'survival',\n",
       " 'operation']"
      ]
     },
     "execution_count": 9,
     "metadata": {},
     "output_type": "execute_result"
    }
   ],
   "source": [
    "import re\n",
    "from nltk.corpus import stopwords\n",
    "import pandas as pd\n",
    "\n",
    "def rem_punct(corpus):\n",
    "    if not isinstance(corpus, str):\n",
    "        return corpus\n",
    "    corpus = re.sub(r'[^a-zA-Z\\s]', '', corpus)\n",
    "    return corpus\n",
    "\n",
    "stop_words = set(stopwords.words('english'))\n",
    "\n",
    "tokens = rem_punct(corpus)\n",
    "tokens = word_tokenize(tokens.lower())\n",
    "tokens = [word for word in tokens if word not in stop_words]\n",
    "tokens"
   ]
  },
  {
   "cell_type": "code",
   "execution_count": 10,
   "id": "4c63807c-acb6-4be9-8193-12449ca8404c",
   "metadata": {
    "execution": {
     "iopub.execute_input": "2025-09-25T06:52:46.477173Z",
     "iopub.status.busy": "2025-09-25T06:52:46.475165Z",
     "iopub.status.idle": "2025-09-25T06:52:46.481592Z",
     "shell.execute_reply": "2025-09-25T06:52:46.481592Z",
     "shell.execute_reply.started": "2025-09-25T06:52:46.477173Z"
    },
    "scrolled": true
   },
   "outputs": [
    {
     "data": {
      "text/plain": [
       "[('statement', 'NN'),\n",
       " ('mitochondria', 'NN'),\n",
       " ('powerhouse', 'NN'),\n",
       " ('cell', 'NN'),\n",
       " ('common', 'JJ'),\n",
       " ('analogy', 'NN'),\n",
       " ('correct', 'JJ'),\n",
       " ('mitochondria', 'NN'),\n",
       " ('responsible', 'JJ'),\n",
       " ('generating', 'VBG'),\n",
       " ('majority', 'NN'),\n",
       " ('cells', 'NNS'),\n",
       " ('usable', 'JJ'),\n",
       " ('energy', 'NN'),\n",
       " ('form', 'NN'),\n",
       " ('adenosine', 'NN'),\n",
       " ('triphosphate', 'NN'),\n",
       " ('atp', 'NN'),\n",
       " ('process', 'NN'),\n",
       " ('called', 'VBD'),\n",
       " ('cellular', 'JJ'),\n",
       " ('respiration', 'NN'),\n",
       " ('vital', 'JJ'),\n",
       " ('function', 'NN'),\n",
       " ('makes', 'VBZ'),\n",
       " ('essential', 'JJ'),\n",
       " ('cells', 'NNS'),\n",
       " ('survival', 'JJ'),\n",
       " ('operation', 'NN')]"
      ]
     },
     "execution_count": 10,
     "metadata": {},
     "output_type": "execute_result"
    }
   ],
   "source": [
    "statistical_tags = pos_tag(tokens)\n",
    "statistical_tags"
   ]
  },
  {
   "cell_type": "code",
   "execution_count": 11,
   "id": "d849948f-3870-43db-9eab-0ab6ee527b76",
   "metadata": {
    "execution": {
     "iopub.execute_input": "2025-09-25T06:54:15.275188Z",
     "iopub.status.busy": "2025-09-25T06:54:15.275188Z",
     "iopub.status.idle": "2025-09-25T06:54:15.282648Z",
     "shell.execute_reply": "2025-09-25T06:54:15.282648Z",
     "shell.execute_reply.started": "2025-09-25T06:54:15.275188Z"
    },
    "scrolled": true
   },
   "outputs": [
    {
     "data": {
      "application/vnd.microsoft.datawrangler.viewer.v0+json": {
       "columns": [
        {
         "name": "index",
         "rawType": "int64",
         "type": "integer"
        },
        {
         "name": "word",
         "rawType": "object",
         "type": "string"
        },
        {
         "name": "pos",
         "rawType": "object",
         "type": "string"
        }
       ],
       "ref": "ca08de2a-4f32-4505-b4b6-68ae705a15d4",
       "rows": [
        [
         "4",
         "common",
         "JJ"
        ],
        [
         "6",
         "correct",
         "JJ"
        ],
        [
         "8",
         "responsible",
         "JJ"
        ],
        [
         "9",
         "generating",
         "VBG"
        ],
        [
         "11",
         "cells",
         "NNS"
        ],
        [
         "12",
         "usable",
         "JJ"
        ],
        [
         "19",
         "called",
         "VBD"
        ],
        [
         "20",
         "cellular",
         "JJ"
        ],
        [
         "22",
         "vital",
         "JJ"
        ],
        [
         "24",
         "makes",
         "VBZ"
        ],
        [
         "25",
         "essential",
         "JJ"
        ],
        [
         "26",
         "cells",
         "NNS"
        ],
        [
         "27",
         "survival",
         "JJ"
        ]
       ],
       "shape": {
        "columns": 2,
        "rows": 13
       }
      },
      "text/html": [
       "<div>\n",
       "<style scoped>\n",
       "    .dataframe tbody tr th:only-of-type {\n",
       "        vertical-align: middle;\n",
       "    }\n",
       "\n",
       "    .dataframe tbody tr th {\n",
       "        vertical-align: top;\n",
       "    }\n",
       "\n",
       "    .dataframe thead th {\n",
       "        text-align: right;\n",
       "    }\n",
       "</style>\n",
       "<table border=\"1\" class=\"dataframe\">\n",
       "  <thead>\n",
       "    <tr style=\"text-align: right;\">\n",
       "      <th></th>\n",
       "      <th>word</th>\n",
       "      <th>pos</th>\n",
       "    </tr>\n",
       "  </thead>\n",
       "  <tbody>\n",
       "    <tr>\n",
       "      <th>4</th>\n",
       "      <td>common</td>\n",
       "      <td>JJ</td>\n",
       "    </tr>\n",
       "    <tr>\n",
       "      <th>6</th>\n",
       "      <td>correct</td>\n",
       "      <td>JJ</td>\n",
       "    </tr>\n",
       "    <tr>\n",
       "      <th>8</th>\n",
       "      <td>responsible</td>\n",
       "      <td>JJ</td>\n",
       "    </tr>\n",
       "    <tr>\n",
       "      <th>9</th>\n",
       "      <td>generating</td>\n",
       "      <td>VBG</td>\n",
       "    </tr>\n",
       "    <tr>\n",
       "      <th>11</th>\n",
       "      <td>cells</td>\n",
       "      <td>NNS</td>\n",
       "    </tr>\n",
       "    <tr>\n",
       "      <th>12</th>\n",
       "      <td>usable</td>\n",
       "      <td>JJ</td>\n",
       "    </tr>\n",
       "    <tr>\n",
       "      <th>19</th>\n",
       "      <td>called</td>\n",
       "      <td>VBD</td>\n",
       "    </tr>\n",
       "    <tr>\n",
       "      <th>20</th>\n",
       "      <td>cellular</td>\n",
       "      <td>JJ</td>\n",
       "    </tr>\n",
       "    <tr>\n",
       "      <th>22</th>\n",
       "      <td>vital</td>\n",
       "      <td>JJ</td>\n",
       "    </tr>\n",
       "    <tr>\n",
       "      <th>24</th>\n",
       "      <td>makes</td>\n",
       "      <td>VBZ</td>\n",
       "    </tr>\n",
       "    <tr>\n",
       "      <th>25</th>\n",
       "      <td>essential</td>\n",
       "      <td>JJ</td>\n",
       "    </tr>\n",
       "    <tr>\n",
       "      <th>26</th>\n",
       "      <td>cells</td>\n",
       "      <td>NNS</td>\n",
       "    </tr>\n",
       "    <tr>\n",
       "      <th>27</th>\n",
       "      <td>survival</td>\n",
       "      <td>JJ</td>\n",
       "    </tr>\n",
       "  </tbody>\n",
       "</table>\n",
       "</div>"
      ],
      "text/plain": [
       "           word  pos\n",
       "4        common   JJ\n",
       "6       correct   JJ\n",
       "8   responsible   JJ\n",
       "9    generating  VBG\n",
       "11        cells  NNS\n",
       "12       usable   JJ\n",
       "19       called  VBD\n",
       "20     cellular   JJ\n",
       "22        vital   JJ\n",
       "24        makes  VBZ\n",
       "25    essential   JJ\n",
       "26        cells  NNS\n",
       "27     survival   JJ"
      ]
     },
     "execution_count": 11,
     "metadata": {},
     "output_type": "execute_result"
    }
   ],
   "source": [
    "df = pd.DataFrame(statistical_tags, columns=['word', 'pos'])\n",
    "df[df['pos'] != 'NN']"
   ]
  },
  {
   "cell_type": "markdown",
   "id": "40b0364d-4966-4b62-81f4-f66690a4d41a",
   "metadata": {},
   "source": [
    "# Assignment (POS Tagging)\n",
    "\n",
    "Get a paragraph from your favorite literature. Analayze your chosen paragraph and do Textual Cleaning if needed. Conduct POS Tagging then Analayze and interpret the following:\n",
    "- POS Frequency (How many nouns, verbs, adj, etc.)\n",
    "- Identify dominant POS types - Is the paragraph Noun-heavy or is the paragraph Verb-dominated or etc.? Explain your answer.\n",
    "- Observe Patterns - *******ex. frequent Adjectives might indicate rich imagery or emotional tone*******\n",
    "\n",
    "What are your other observations and interpretations?<br>\n"
   ]
  },
  {
   "cell_type": "code",
   "execution_count": null,
   "id": "935e345a-8894-4b5f-bd30-8fa14b06e008",
   "metadata": {},
   "outputs": [],
   "source": []
  }
 ],
 "metadata": {
  "kernelspec": {
   "display_name": "src",
   "language": "python",
   "name": "python3"
  },
  "language_info": {
   "codemirror_mode": {
    "name": "ipython",
    "version": 3
   },
   "file_extension": ".py",
   "mimetype": "text/x-python",
   "name": "python",
   "nbconvert_exporter": "python",
   "pygments_lexer": "ipython3",
   "version": "3.12.11"
  }
 },
 "nbformat": 4,
 "nbformat_minor": 5
}
