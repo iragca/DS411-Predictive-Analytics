{
 "cells": [
  {
   "cell_type": "code",
   "execution_count": null,
   "id": "c495d61f",
   "metadata": {},
   "outputs": [
    {
     "data": {
      "text/plain": [
       "['school', 'really', 'ama']"
      ]
     },
     "execution_count": 6,
     "metadata": {},
     "output_type": "execute_result"
    }
   ],
   "source": [
    "from src.preprocessing import Pipeline\n",
    "from src.preprocessing import steps as ps\n",
    "from nltk.stem import PorterStemmer\n",
    "\n",
    "text = \"Python is great! Python is easy to learn. Isn't Python amazing?\"\n",
    "sentence = ' My Schoooooool is reeeeeeaaaallllllllly amaaaaaazingggg!'\n",
    "another_text = \"Thisss is a smaplee sentnce with som misspelled wirds. Coooool!\"\n",
    "\n",
    "def porter_stem_tokens(tokens: list[str]) -> list[str]:\n",
    "    \"\"\"\n",
    "    Stem a list of tokens using the Porter stemming algorithm.\n",
    "\n",
    "    Parameters\n",
    "    ----------\n",
    "    tokens : list of str\n",
    "        List of tokens to stem.\n",
    "\n",
    "    Returns\n",
    "    -------\n",
    "    list of str\n",
    "        List of stemmed tokens.\n",
    "    \"\"\"\n",
    "    stemmer = PorterStemmer()\n",
    "    return [stemmer.stem(token) for token in tokens]\n",
    "\n",
    "pipeline = Pipeline(steps=[\n",
    "    ps.to_lowercase,\n",
    "    ps.expand_contractions,\n",
    "    ps.remove_punctuation,\n",
    "    ps.remove_repeated_characters,\n",
    "    ps.correct_spelling,\n",
    "    ps.tokenize,\n",
    "    ps.remove_stopwords,\n",
    "    ps.correct_spelling,\n",
    "    porter_stem_tokens,\n",
    "    ps.lemmatize_tokens,\n",
    "    ps.correct_spelling,\n",
    "])\n",
    "\n",
    "result = pipeline(sentence)\n",
    "result"
   ]
  },
  {
   "cell_type": "code",
   "execution_count": 2,
   "id": "4eec0473",
   "metadata": {},
   "outputs": [
    {
     "name": "stdout",
     "output_type": "stream",
     "text": [
      "\n",
      "    A simple function-based processing pipeline.\n",
      "\n",
      "    Each step is a callable that accepts one argument and returns a value.\n",
      "    The output of one step is passed as the input to the next.\n",
      "\n",
      "    Parameters\n",
      "    ----------\n",
      "    steps : list of Callable[[Any], Any]\n",
      "        A list of callables that will be applied in sequence.\n",
      "    \n"
     ]
    }
   ],
   "source": [
    "print(pipeline.__doc__)"
   ]
  },
  {
   "cell_type": "code",
   "execution_count": 7,
   "id": "a9ee3f79",
   "metadata": {},
   "outputs": [
    {
     "name": "stdout",
     "output_type": "stream",
     "text": [
      "['smaller', 'sentence', 'som', 'missed', 'word', 'cool']\n"
     ]
    },
    {
     "data": {
      "text/plain": [
       "Pipeline(\n",
       "  to_lowercase\n",
       "    ⬇\n",
       "  expand_contractions\n",
       "    ⬇\n",
       "  remove_punctuation\n",
       "    ⬇\n",
       "  remove_repeated_characters\n",
       "    ⬇\n",
       "  correct_spelling\n",
       "    ⬇\n",
       "  tokenize\n",
       "    ⬇\n",
       "  remove_stopwords\n",
       "    ⬇\n",
       "  correct_spelling\n",
       "    ⬇\n",
       "  porter_stem_tokens\n",
       "    ⬇\n",
       "  lemmatize_tokens\n",
       "    ⬇\n",
       "  correct_spelling\n",
       ")"
      ]
     },
     "execution_count": 7,
     "metadata": {},
     "output_type": "execute_result"
    }
   ],
   "source": [
    "print(pipeline(another_text))\n",
    "pipeline"
   ]
  }
 ],
 "metadata": {
  "kernelspec": {
   "display_name": "src",
   "language": "python",
   "name": "python3"
  },
  "language_info": {
   "codemirror_mode": {
    "name": "ipython",
    "version": 3
   },
   "file_extension": ".py",
   "mimetype": "text/x-python",
   "name": "python",
   "nbconvert_exporter": "python",
   "pygments_lexer": "ipython3",
   "version": "3.12.11"
  }
 },
 "nbformat": 4,
 "nbformat_minor": 5
}
