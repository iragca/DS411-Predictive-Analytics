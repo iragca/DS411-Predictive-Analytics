{
 "cells": [
  {
   "cell_type": "code",
   "execution_count": null,
   "id": "c495d61f",
   "metadata": {},
   "outputs": [
    {
     "data": {
      "text/plain": [
       "['my', 'school', 'is', 'really', 'amazing']"
      ]
     },
     "execution_count": 1,
     "metadata": {},
     "output_type": "execute_result"
    }
   ],
   "source": [
    "from src.preprocessing import Pipeline\n",
    "from src.preprocessing import steps as ps\n",
    "\n",
    "text = \"Python is great! Python is easy to learn. Isn't Python amazing?\"\n",
    "sentence = ' My Schoooooool is reeeeeeaaaallllllllly amaaaaaazingggg!'\n",
    "another_text = \"Thisss is a smaplee sentnce with som misspelled wirds. Coooool!\"\n",
    "\n",
    "pipeline = Pipeline(steps=[\n",
    "    ps.to_lowercase,\n",
    "    ps.expand_contractions,\n",
    "    ps.remove_punctuation,\n",
    "    ps.remove_repeated_characters,\n",
    "    ps.correct_spelling,\n",
    "    ps.tokenize,\n",
    "])\n",
    "\n",
    "result = pipeline(sentence)\n",
    "result"
   ]
  },
  {
   "cell_type": "code",
   "execution_count": 4,
   "id": "4eec0473",
   "metadata": {},
   "outputs": [
    {
     "name": "stdout",
     "output_type": "stream",
     "text": [
      "\n",
      "    A simple function-based processing pipeline.\n",
      "\n",
      "    Each step is a callable that accepts one argument and returns a value.\n",
      "    The output of one step is passed as the input to the next.\n",
      "\n",
      "    Parameters\n",
      "    ----------\n",
      "    steps : list of Callable[[Any], Any]\n",
      "        A list of callables that will be applied in sequence.\n",
      "    \n"
     ]
    }
   ],
   "source": [
    "print(pipeline.__doc__)"
   ]
  },
  {
   "cell_type": "code",
   "execution_count": 5,
   "id": "a9ee3f79",
   "metadata": {},
   "outputs": [
    {
     "name": "stdout",
     "output_type": "stream",
     "text": [
      "['this', 'is', 'a', 'smaller', 'sentence', 'with', 'som', 'misspelled', 'words', 'cool']\n"
     ]
    },
    {
     "data": {
      "text/plain": [
       "Pipeline(\n",
       "  to_lowercase\n",
       "    ⬇\n",
       "  expand_contractions\n",
       "    ⬇\n",
       "  remove_punctuation\n",
       "    ⬇\n",
       "  remove_repeated_characters\n",
       "    ⬇\n",
       "  correct_spelling\n",
       "    ⬇\n",
       "  tokenize\n",
       ")"
      ]
     },
     "execution_count": 5,
     "metadata": {},
     "output_type": "execute_result"
    }
   ],
   "source": [
    "print(pipeline(another_text))\n",
    "pipeline"
   ]
  }
 ],
 "metadata": {
  "kernelspec": {
   "display_name": "src",
   "language": "python",
   "name": "python3"
  },
  "language_info": {
   "codemirror_mode": {
    "name": "ipython",
    "version": 3
   },
   "file_extension": ".py",
   "mimetype": "text/x-python",
   "name": "python",
   "nbconvert_exporter": "python",
   "pygments_lexer": "ipython3",
   "version": "3.12.11"
  }
 },
 "nbformat": 4,
 "nbformat_minor": 5
}
