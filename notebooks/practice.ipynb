{
 "cells": [
  {
   "cell_type": "code",
   "execution_count": 32,
   "id": "be88fa56",
   "metadata": {},
   "outputs": [],
   "source": [
    "import re\n",
    "from typing import Generator\n",
    "\n",
    "import contractions\n",
    "from autocorrect import Speller\n",
    "\n",
    "\n",
    "class TextProcessor:\n",
    "\n",
    "    def __init__(self, lang: str = 'en'):\n",
    "        self.autocorrect = Speller(lang=lang)\n",
    "\n",
    "\n",
    "    def to_lowercase(self, text: str) -> str:\n",
    "        return text.lower()\n",
    "    \n",
    "    def remove_punctuation(self, text: str) -> str:\n",
    "        return re.sub(r'[^\\w\\s]', '', text)\n",
    "    \n",
    "    def correct_spelling(self, text: str) -> str:\n",
    "        return self.autocorrect(text)\n",
    "\n",
    "    def expand_contractions(self, text: str) -> str:\n",
    "        return contractions.fix(text)\n",
    "    \n",
    "    def tokenize(self, text: str) -> Generator[str, None, None]:\n",
    "        for token in text.split():\n",
    "            yield token\n",
    "\n",
    "    def process(self, text: str, tokenize: bool = True) -> str:\n",
    "        text = self.to_lowercase(text)\n",
    "        text = self.expand_contractions(text)\n",
    "        text = self.remove_punctuation(text)\n",
    "        text = self.correct_spelling(text)\n",
    "        if tokenize:\n",
    "            text = self.tokenize(text)\n",
    "        return text\n",
    "    \n",
    "    __call__ = process\n",
    "\n",
    "class FrequencyAnalyzer:\n",
    "\n",
    "    def __init__(self):\n",
    "        pass\n",
    "\n",
    "    def word_frequencies(self, text: list[str]) -> dict[str, int]:\n",
    "        freq = {}\n",
    "        for word in text:\n",
    "            freq[word] = freq.get(word, 0) + 1\n",
    "        return freq\n",
    "    \n",
    "    __call__ = word_frequencies\n"
   ]
  },
  {
   "cell_type": "code",
   "execution_count": 34,
   "id": "9f07456b",
   "metadata": {},
   "outputs": [
    {
     "data": {
      "text/plain": [
       "<generator object TextProcessor.tokenize at 0x7f7ab65dcee0>"
      ]
     },
     "execution_count": 34,
     "metadata": {},
     "output_type": "execute_result"
    }
   ],
   "source": [
    "text = \"Python is great! Python is easy to learn. Isn't Python amazing?\"\n",
    "\n",
    "processor = TextProcessor()\n",
    "analyzer = FrequencyAnalyzer()\n",
    "\n",
    "processed_text = processor(text, tokenize=True)\n",
    "processed_text"
   ]
  },
  {
   "cell_type": "code",
   "execution_count": 35,
   "id": "94152253",
   "metadata": {},
   "outputs": [
    {
     "data": {
      "text/plain": [
       "{'python': 3,\n",
       " 'is': 3,\n",
       " 'great': 1,\n",
       " 'easy': 1,\n",
       " 'to': 1,\n",
       " 'learn': 1,\n",
       " 'not': 1,\n",
       " 'amazing': 1}"
      ]
     },
     "execution_count": 35,
     "metadata": {},
     "output_type": "execute_result"
    }
   ],
   "source": [
    "frequencies = analyzer(processed_text)\n",
    "frequencies"
   ]
  }
 ],
 "metadata": {
  "kernelspec": {
   "display_name": "src",
   "language": "python",
   "name": "python3"
  },
  "language_info": {
   "codemirror_mode": {
    "name": "ipython",
    "version": 3
   },
   "file_extension": ".py",
   "mimetype": "text/x-python",
   "name": "python",
   "nbconvert_exporter": "python",
   "pygments_lexer": "ipython3",
   "version": "3.12.11"
  }
 },
 "nbformat": 4,
 "nbformat_minor": 5
}
