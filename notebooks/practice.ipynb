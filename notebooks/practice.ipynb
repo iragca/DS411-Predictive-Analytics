{
 "cells": [
  {
   "cell_type": "code",
   "execution_count": null,
   "id": "be88fa56",
   "metadata": {},
   "outputs": [],
   "source": [
    "import re\n",
    "from typing import Generator\n",
    "\n",
    "import contractions\n",
    "from autocorrect import Speller\n",
    "from nltk.corpus import wordnet\n",
    "\n",
    "\n",
    "class TextProcessor:\n",
    "\n",
    "    def __init__(self, lang: str = 'en'):\n",
    "        self.autocorrect = Speller(lang=lang)\n",
    "\n",
    "\n",
    "    def to_lowercase(self, text: str) -> str:\n",
    "        return text.lower()\n",
    "    \n",
    "    def remove_punctuation(self, text: str) -> str:\n",
    "        return re.sub(r'[^\\w\\s]', '', text)\n",
    "\n",
    "    def correct_spelling(self, text: Generator[str, None, None]) -> Generator[str, None, None]:\n",
    "        for word in text:\n",
    "            yield self.autocorrect(word)\n",
    "\n",
    "    def expand_contractions(self, text: str) -> str:\n",
    "        return contractions.fix(text)\n",
    "    \n",
    "    def tokenize(self, text: str) -> Generator[str, None, None]:\n",
    "        for token in text.split():\n",
    "            yield token\n",
    "    \n",
    "    def is_valid_word(self, word: str) -> bool:\n",
    "        return bool(wordnet.synsets(word))\n",
    "\n",
    "    def remove_repeated_characters(self, tokens: Generator[str, None, None]) -> Generator[str, None, None]:\n",
    "        repeatPattern = re.compile(r'(\\w*)(\\w)\\2(\\w*)')\n",
    "\n",
    "        def replace_with_valid_word(word: str) -> str:\n",
    "            while not self.is_valid_word(word):\n",
    "                newWord = repeatPattern.sub(r'\\1\\2\\3', word)\n",
    "                if newWord == word:\n",
    "                    break\n",
    "                word = newWord\n",
    "            return word\n",
    "    \n",
    "        for word in tokens:\n",
    "            yield replace_with_valid_word(word)\n",
    "\n",
    "\n",
    "    def process(self, text: str) -> str:\n",
    "        text = self.to_lowercase(text)\n",
    "        text = self.expand_contractions(text)\n",
    "        text = self.remove_punctuation(text)\n",
    "\n",
    "        text = self.tokenize(text)\n",
    "        text = self.remove_repeated_characters(text)\n",
    "        text = self.correct_spelling(text)\n",
    "        return text\n",
    "    \n",
    "    __call__ = process\n",
    "\n",
    "class FrequencyAnalyzer:\n",
    "\n",
    "    def __init__(self):\n",
    "        pass\n",
    "\n",
    "    def word_frequencies(self, text: list[str]) -> dict[str, int]:\n",
    "        freq = {}\n",
    "        for word in text:\n",
    "            freq[word] = freq.get(word, 0) + 1\n",
    "        return freq\n",
    "    \n",
    "    __call__ = word_frequencies\n"
   ]
  },
  {
   "cell_type": "code",
   "execution_count": 17,
   "id": "9f07456b",
   "metadata": {},
   "outputs": [
    {
     "data": {
      "text/plain": [
       "<generator object TextProcessor.correct_spelling at 0x7f365dba5540>"
      ]
     },
     "execution_count": 17,
     "metadata": {},
     "output_type": "execute_result"
    }
   ],
   "source": [
    "text = \"Python is great! Python is easy to learn. Isn't Python amazing?\"\n",
    "sentence = ' My Schoooooool is reeeeeeaaaallllllllly amaaaaaazingggg!'\n",
    "\n",
    "processor = TextProcessor()\n",
    "analyzer = FrequencyAnalyzer()\n",
    "\n",
    "processed_text = processor(text)\n",
    "processed_text\n",
    "\n",
    "processed_sentence = processor(sentence)\n",
    "processed_sentence"
   ]
  },
  {
   "cell_type": "code",
   "execution_count": 18,
   "id": "94152253",
   "metadata": {},
   "outputs": [
    {
     "data": {
      "text/plain": [
       "{'my': 1, 'school': 1, 'is': 1, 'really': 1, 'amazing': 1}"
      ]
     },
     "execution_count": 18,
     "metadata": {},
     "output_type": "execute_result"
    }
   ],
   "source": [
    "frequencies = analyzer(processed_sentence)\n",
    "frequencies"
   ]
  }
 ],
 "metadata": {
  "kernelspec": {
   "display_name": "src",
   "language": "python",
   "name": "python3"
  },
  "language_info": {
   "codemirror_mode": {
    "name": "ipython",
    "version": 3
   },
   "file_extension": ".py",
   "mimetype": "text/x-python",
   "name": "python",
   "nbconvert_exporter": "python",
   "pygments_lexer": "ipython3",
   "version": "3.12.11"
  }
 },
 "nbformat": 4,
 "nbformat_minor": 5
}
