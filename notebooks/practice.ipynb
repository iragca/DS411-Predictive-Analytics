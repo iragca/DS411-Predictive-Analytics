{
 "cells": [
  {
   "cell_type": "code",
   "execution_count": 6,
   "id": "be88fa56",
   "metadata": {},
   "outputs": [],
   "source": [
    "from autocorrect import Speller\n",
    "import re\n",
    "\n",
    "class TextProcessor:\n",
    "\n",
    "    def __init__(self, lang: str = 'en'):\n",
    "        self.autocorrect = Speller(lang=lang)\n",
    "\n",
    "\n",
    "    def to_lowercase(self, text: str) -> str:\n",
    "        return text.lower()\n",
    "    \n",
    "    def remove_punctuation(self, text: str) -> str:\n",
    "        return re.sub(r'[^\\w\\s]', '', text)\n",
    "    \n",
    "    def correct_spelling(self, text: str) -> str:\n",
    "        return self.autocorrect(text)\n",
    "\n",
    "    def process(self, text: str) -> str:\n",
    "        text = self.to_lowercase(text)\n",
    "        text = self.remove_punctuation(text)\n",
    "        text = self.correct_spelling(text)\n",
    "        return text\n",
    "    \n",
    "    __call__ = process\n",
    "\n",
    "class FrequencyAnalyzer:\n",
    "\n",
    "    def __init__(self, corpus: str):\n",
    "        self.corpus = corpus\n",
    "\n",
    "    def split_into_words(self, text: str) -> list:\n",
    "        return text.split()\n",
    "    \n",
    "    def word_frequencies(self, text: str) -> dict[str, int]:\n",
    "        words = self.split_into_words(text)\n",
    "        freq = {}\n",
    "        for word in words:\n",
    "            freq[word] = freq.get(word, 0) + 1\n",
    "        return freq\n"
   ]
  },
  {
   "cell_type": "code",
   "execution_count": 7,
   "id": "9f07456b",
   "metadata": {},
   "outputs": [
    {
     "data": {
      "text/plain": [
       "'python is great python is easy to learn isnt python amazing'"
      ]
     },
     "execution_count": 7,
     "metadata": {},
     "output_type": "execute_result"
    }
   ],
   "source": [
    "Text = \"Python is great! Python is easy to learn. Isn't Python amazing?\"\n",
    "\n",
    "processor = TextProcessor()\n",
    "analyzer = FrequencyAnalyzer(corpus=Text)\n",
    "\n",
    "processed_text = processor(Text)\n",
    "processed_text"
   ]
  },
  {
   "cell_type": "code",
   "execution_count": 8,
   "id": "94152253",
   "metadata": {},
   "outputs": [
    {
     "data": {
      "text/plain": [
       "{'python': 3,\n",
       " 'is': 2,\n",
       " 'great': 1,\n",
       " 'easy': 1,\n",
       " 'to': 1,\n",
       " 'learn': 1,\n",
       " 'isnt': 1,\n",
       " 'amazing': 1}"
      ]
     },
     "execution_count": 8,
     "metadata": {},
     "output_type": "execute_result"
    }
   ],
   "source": [
    "frequencies = analyzer.word_frequencies(processed_text)\n",
    "frequencies"
   ]
  }
 ],
 "metadata": {
  "kernelspec": {
   "display_name": "src",
   "language": "python",
   "name": "python3"
  },
  "language_info": {
   "codemirror_mode": {
    "name": "ipython",
    "version": 3
   },
   "file_extension": ".py",
   "mimetype": "text/x-python",
   "name": "python",
   "nbconvert_exporter": "python",
   "pygments_lexer": "ipython3",
   "version": "3.12.11"
  }
 },
 "nbformat": 4,
 "nbformat_minor": 5
}
